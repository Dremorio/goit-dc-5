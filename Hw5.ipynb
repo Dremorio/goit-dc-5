{
 "cells": [
  {
   "cell_type": "code",
   "execution_count": 27,
   "id": "b638f5fd",
   "metadata": {},
   "outputs": [],
   "source": [
    "import os\n",
    "import pandas as pd\n",
    "import numpy as np\n",
    "from sklearn.model_selection import train_test_split\n",
    "from sklearn.preprocessing import StandardScaler\n",
    "from sklearn.svm import SVC\n",
    "from sklearn.ensemble import RandomForestClassifier\n",
    "from sklearn.metrics import classification_report\n",
    "from scipy.stats import skew, kurtosis\n",
    "    "
   ]
  },
  {
   "cell_type": "code",
   "execution_count": 28,
   "id": "66f7fe05",
   "metadata": {},
   "outputs": [],
   "source": [
    "base_dir = \"./data\"\n",
    "\n",
    "def load_activity_data(directory, label):\n",
    "    files = os.listdir(directory)\n",
    "    data_frames = [pd.read_csv(os.path.join(directory, file)) for file in files]\n",
    "    combined_data = pd.concat(data_frames, ignore_index=True)\n",
    "    combined_data['label'] = label\n",
    "    return combined_data\n",
    "\n",
    "data_idle = load_activity_data(os.path.join(base_dir, 'idle'), 'idle')\n",
    "data_running = load_activity_data(os.path.join(base_dir, 'running'), 'running')\n",
    "data_stairs = load_activity_data(os.path.join(base_dir, 'stairs'), 'stairs')\n",
    "data_walking = load_activity_data(os.path.join(base_dir, 'walking'), 'walking')\n",
    "\n",
    "data = pd.concat([data_idle, data_running, data_stairs, data_walking], ignore_index=True)\n",
    "    "
   ]
  },
  {
   "cell_type": "code",
   "execution_count": 29,
   "id": "c0a4b30c",
   "metadata": {},
   "outputs": [],
   "source": [
    "def create_time_windows(df, window_size=30, step_size=15):\n",
    "    n_rows = df.shape[0]\n",
    "    windows = []\n",
    "    for start in range(0, n_rows, step_size):\n",
    "        end = start + window_size\n",
    "        if end <= n_rows:\n",
    "            windows.append(df.iloc[start:end])\n",
    "    return windows\n",
    "\n",
    "def compute_time_domain_features(window):\n",
    "    features = {}\n",
    "    features['mean_x'] = window['accelerometer_X'].mean()\n",
    "    features['mean_y'] = window['accelerometer_Y'].mean()\n",
    "    features['mean_z'] = window['accelerometer_Z'].mean()\n",
    "    features['std_x'] = window['accelerometer_X'].std()\n",
    "    features['std_y'] = window['accelerometer_Y'].std()\n",
    "    features['std_z'] = window['accelerometer_Z'].std()\n",
    "    features['skew_x'] = skew(window['accelerometer_X'])\n",
    "    features['skew_y'] = skew(window['accelerometer_Y'])\n",
    "    features['skew_z'] = skew(window['accelerometer_Z'])\n",
    "    features['kurt_x'] = kurtosis(window['accelerometer_X'])\n",
    "    features['kurt_y'] = kurtosis(window['accelerometer_Y'])\n",
    "    features['kurt_z'] = kurtosis(window['accelerometer_Z'])\n",
    "    return pd.Series(features)\n",
    "    "
   ]
  },
  {
   "cell_type": "code",
   "execution_count": 30,
   "id": "be7ab09c",
   "metadata": {},
   "outputs": [],
   "source": [
    "features = []\n",
    "labels = []\n",
    "for label in data['label'].unique():\n",
    "    activity_data = data[data['label'] == label]\n",
    "    windows = create_time_windows(activity_data, window_size=30, step_size=15)\n",
    "    for window in windows:\n",
    "        features.append(compute_time_domain_features(window))\n",
    "        labels.append(label)\n",
    "\n",
    "features_df = pd.DataFrame(features)\n",
    "features_df['label'] = labels\n",
    "    "
   ]
  },
  {
   "cell_type": "code",
   "execution_count": 31,
   "id": "55b122aa",
   "metadata": {},
   "outputs": [],
   "source": [
    "X = features_df.drop(columns=['label'])\n",
    "y = features_df['label']\n",
    "X_train, X_test, y_train, y_test = train_test_split(X, y, test_size=0.2, random_state=42, stratify=y)\n",
    "\n",
    "svm_model = SVC(kernel='rbf', random_state=42)\n",
    "svm_model.fit(X_train, y_train)\n",
    "y_pred_svm = svm_model.predict(X_test)\n",
    "\n",
    "rf_model = RandomForestClassifier(n_estimators=100, random_state=42)\n",
    "rf_model.fit(X_train, y_train)\n",
    "y_pred_rf = rf_model.predict(X_test)\n",
    "    "
   ]
  },
  {
   "cell_type": "code",
   "execution_count": 32,
   "id": "b846454f",
   "metadata": {},
   "outputs": [
    {
     "name": "stdout",
     "output_type": "stream",
     "text": [
      "SVM Classification Report:\n",
      "               precision    recall  f1-score   support\n",
      "\n",
      "        idle       1.00      1.00      1.00       415\n",
      "     running       1.00      1.00      1.00      1363\n",
      "      stairs       0.88      0.65      0.75        66\n",
      "     walking       0.97      0.99      0.98       740\n",
      "\n",
      "    accuracy                           0.99      2584\n",
      "   macro avg       0.96      0.91      0.93      2584\n",
      "weighted avg       0.99      0.99      0.99      2584\n",
      "\n",
      "Random Forest Classification Report:\n",
      "               precision    recall  f1-score   support\n",
      "\n",
      "        idle       1.00      1.00      1.00       415\n",
      "     running       1.00      1.00      1.00      1363\n",
      "      stairs       0.98      0.89      0.94        66\n",
      "     walking       0.99      1.00      0.99       740\n",
      "\n",
      "    accuracy                           1.00      2584\n",
      "   macro avg       0.99      0.97      0.98      2584\n",
      "weighted avg       1.00      1.00      1.00      2584\n",
      "\n"
     ]
    }
   ],
   "source": [
    "report_svm = classification_report(y_test, y_pred_svm)\n",
    "report_rf = classification_report(y_test, y_pred_rf)\n",
    "\n",
    "print(\"SVM Classification Report:\\n\", report_svm)\n",
    "print(\"Random Forest Classification Report:\\n\", report_rf)\n",
    "    "
   ]
  }
 ],
 "metadata": {
  "kernelspec": {
   "display_name": ".venv",
   "language": "python",
   "name": "python3"
  },
  "language_info": {
   "name": "python",
   "version": "3.12.1"
  }
 },
 "nbformat": 4,
 "nbformat_minor": 5
}
